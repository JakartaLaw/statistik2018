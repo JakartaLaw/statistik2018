{
 "cells": [
  {
   "cell_type": "code",
   "execution_count": 1,
   "metadata": {
    "collapsed": true
   },
   "outputs": [],
   "source": [
    "import matplotlib.pyplot as plt\n",
    "import numpy as np\n",
    "import pandas as pd"
   ]
  },
  {
   "cell_type": "code",
   "execution_count": 2,
   "metadata": {
    "collapsed": true
   },
   "outputs": [],
   "source": [
    "%matplotlib inline"
   ]
  },
  {
   "cell_type": "markdown",
   "metadata": {},
   "source": [
    "# Opgave 1.4"
   ]
  },
  {
   "cell_type": "code",
   "execution_count": 3,
   "metadata": {
    "collapsed": true
   },
   "outputs": [],
   "source": [
    "class Dice(object):\n",
    "     \n",
    "    def __init__():\n",
    "        pass\n",
    "    \n",
    "    @staticmethod\n",
    "    def outcome_space():\n",
    "        \n",
    "        return [i + 1 for i in range(6)]\n",
    "\n",
    "  "
   ]
  },
  {
   "cell_type": "code",
   "execution_count": 4,
   "metadata": {
    "collapsed": true
   },
   "outputs": [],
   "source": [
    "t1, t2, t3 = Dice.outcome_space(), Dice.outcome_space(), Dice.outcome_space() "
   ]
  },
  {
   "cell_type": "code",
   "execution_count": 5,
   "metadata": {
    "collapsed": true
   },
   "outputs": [],
   "source": [
    "outcomes = list()\n",
    "\n",
    "for i in t1:\n",
    "    for j in t2:\n",
    "        for k in t2:\n",
    "            outcomes.append(i+j+k)\n"
   ]
  },
  {
   "cell_type": "markdown",
   "metadata": {},
   "source": [
    "### Distribution of outcomes"
   ]
  },
  {
   "cell_type": "code",
   "execution_count": 6,
   "metadata": {},
   "outputs": [
    {
     "data": {
      "text/plain": [
       "(array([  1.,   0.,   3.,   0.,   6.,   0.,  10.,   0.,  15.,   0.,  21.,\n",
       "          0.,  25.,   0.,  27.,   0.,  27.,   0.,  25.,   0.,  21.,   0.,\n",
       "         15.,   0.,  10.,   0.,   6.,   0.,   3.,   0.,   1.]),\n",
       " array([  3. ,   3.5,   4. ,   4.5,   5. ,   5.5,   6. ,   6.5,   7. ,\n",
       "          7.5,   8. ,   8.5,   9. ,   9.5,  10. ,  10.5,  11. ,  11.5,\n",
       "         12. ,  12.5,  13. ,  13.5,  14. ,  14.5,  15. ,  15.5,  16. ,\n",
       "         16.5,  17. ,  17.5,  18. ,  18.5]),\n",
       " <a list of 31 Patch objects>)"
      ]
     },
     "execution_count": 6,
     "metadata": {},
     "output_type": "execute_result"
    },
    {
     "data": {
      "image/png": "[encoded data removed]",
      "text/plain": [
       "<matplotlib.figure.Figure at 0x1159d1f60>"
      ]
     },
     "metadata": {},
     "output_type": "display_data"
    }
   ],
   "source": [
    "bins = [i*0.5 + 3 for i in range(16*2)]\n",
    "plt.hist(outcomes, bins=bins)"
   ]
  },
  {
   "cell_type": "code",
   "execution_count": 7,
   "metadata": {
    "collapsed": true
   },
   "outputs": [],
   "source": [
    "def number_of_tens(x):\n",
    "    if x == 10:\n",
    "        return 1\n",
    "    else:\n",
    "        return 0"
   ]
  },
  {
   "cell_type": "code",
   "execution_count": 8,
   "metadata": {},
   "outputs": [
    {
     "name": "stdout",
     "output_type": "stream",
     "text": [
      "antal gunstige udfald er: 27\n"
     ]
    }
   ],
   "source": [
    "gunstige_udfald = np.sum([number_of_tens(outcome) for outcome in outcomes ])\n",
    "print('antal gunstige udfald er:',gunstige_udfald)"
   ]
  },
  {
   "cell_type": "markdown",
   "metadata": {},
   "source": [
    "# Opgave 1.24"
   ]
  },
  {
   "cell_type": "markdown",
   "metadata": {},
   "source": [
    "Vi laver en nem kodning: (1,1) = 11, (2,1) = 21 osv."
   ]
  },
  {
   "cell_type": "code",
   "execution_count": 9,
   "metadata": {
    "collapsed": true
   },
   "outputs": [],
   "source": [
    "def gen_set(t1,t2):\n",
    "    return int(str(t1) + str(t2))\n",
    "\n",
    "def read_set(s):\n",
    "    t1, t2 = int(str(s)[0]),int(str(s)[1])\n",
    "    return t1, t2"
   ]
  },
  {
   "cell_type": "code",
   "execution_count": 10,
   "metadata": {
    "collapsed": true
   },
   "outputs": [],
   "source": [
    "A = set(['41','42','43','44','45','46'])\n",
    "B = set(['11','21','31','41','51','61'])\n",
    "C = set(['41','42','43','44','14','24','34'])\n",
    "D = set(['14','23','32','41'])\n",
    "F = set(['16','61','25','52','34','43'])"
   ]
  },
  {
   "cell_type": "code",
   "execution_count": 11,
   "metadata": {
    "collapsed": true
   },
   "outputs": [],
   "source": [
    "def get_intersection(set1, set2):\n",
    "    \n",
    "    return set1.intersection(set2)\n",
    "\n",
    "def elements_in_intersection(set1, set2):\n",
    "    \n",
    "    intersection = get_intersection(set1, set2)\n",
    "    return len(intersection)\n",
    "\n",
    "def get_intersection_probability(set1, set2):\n",
    "    \n",
    "    intersection = get_intersection(set1, set2)\n",
    "    return len(intersection)/36\n",
    "\n",
    "def get_probability(set1, set2):\n",
    "    \n",
    "    nr_elements1 = len(set1)\n",
    "    nr_elements2 = len(set2)\n",
    "    \n",
    "    return nr_elements1*nr_elements2/(36*36)"
   ]
  },
  {
   "cell_type": "code",
   "execution_count": 12,
   "metadata": {
    "collapsed": true
   },
   "outputs": [],
   "source": [
    "all_sets = [A, B, C, D, F]\n",
    "set_names =  ['A', 'B', 'C', 'D', 'F']\n",
    "\n",
    "results = {'set':set_names}\n",
    "for i in range(len(all_sets)):\n",
    "    results[set_names[i]] = [elements_in_intersection(all_sets[i],j) for j in all_sets]\n",
    "    "
   ]
  },
  {
   "cell_type": "code",
   "execution_count": 13,
   "metadata": {},
   "outputs": [],
   "source": [
    "# puts everything to dataframe for printing\n",
    "df = pd.DataFrame(results)"
   ]
  },
  {
   "cell_type": "code",
   "execution_count": 14,
   "metadata": {},
   "outputs": [
    {
     "data": {
      "text/html": [
       "<div>\n",
       "<style scoped>\n",
       "    .dataframe tbody tr th:only-of-type {\n",
       "        vertical-align: middle;\n",
       "    }\n",
       "\n",
       "    .dataframe tbody tr th {\n",
       "        vertical-align: top;\n",
       "    }\n",
       "\n",
       "    .dataframe thead th {\n",
       "        text-align: right;\n",
       "    }\n",
       "</style>\n",
       "<table border=\"1\" class=\"dataframe\">\n",
       "  <thead>\n",
       "    <tr style=\"text-align: right;\">\n",
       "      <th></th>\n",
       "      <th>A</th>\n",
       "      <th>B</th>\n",
       "      <th>C</th>\n",
       "      <th>D</th>\n",
       "      <th>F</th>\n",
       "      <th>set</th>\n",
       "    </tr>\n",
       "  </thead>\n",
       "  <tbody>\n",
       "    <tr>\n",
       "      <th>0</th>\n",
       "      <td>6</td>\n",
       "      <td>1</td>\n",
       "      <td>4</td>\n",
       "      <td>1</td>\n",
       "      <td>1</td>\n",
       "      <td>A</td>\n",
       "    </tr>\n",
       "    <tr>\n",
       "      <th>1</th>\n",
       "      <td>1</td>\n",
       "      <td>6</td>\n",
       "      <td>1</td>\n",
       "      <td>1</td>\n",
       "      <td>1</td>\n",
       "      <td>B</td>\n",
       "    </tr>\n",
       "    <tr>\n",
       "      <th>2</th>\n",
       "      <td>4</td>\n",
       "      <td>1</td>\n",
       "      <td>7</td>\n",
       "      <td>2</td>\n",
       "      <td>2</td>\n",
       "      <td>C</td>\n",
       "    </tr>\n",
       "    <tr>\n",
       "      <th>3</th>\n",
       "      <td>1</td>\n",
       "      <td>1</td>\n",
       "      <td>2</td>\n",
       "      <td>4</td>\n",
       "      <td>0</td>\n",
       "      <td>D</td>\n",
       "    </tr>\n",
       "    <tr>\n",
       "      <th>4</th>\n",
       "      <td>1</td>\n",
       "      <td>1</td>\n",
       "      <td>2</td>\n",
       "      <td>0</td>\n",
       "      <td>6</td>\n",
       "      <td>F</td>\n",
       "    </tr>\n",
       "  </tbody>\n",
       "</table>\n",
       "</div>"
      ],
      "text/plain": [
       "   A  B  C  D  F set\n",
       "0  6  1  4  1  1   A\n",
       "1  1  6  1  1  1   B\n",
       "2  4  1  7  2  2   C\n",
       "3  1  1  2  4  0   D\n",
       "4  1  1  2  0  6   F"
      ]
     },
     "execution_count": 14,
     "metadata": {},
     "output_type": "execute_result"
    }
   ],
   "source": [
    "df"
   ]
  },
  {
   "cell_type": "markdown",
   "metadata": {},
   "source": [
    "Til Latex output:"
   ]
  },
  {
   "cell_type": "code",
   "execution_count": 15,
   "metadata": {},
   "outputs": [
    {
     "name": "stdout",
     "output_type": "stream",
     "text": [
      "\\begin{tabular}{rrrrrl}\n",
      "\\toprule\n",
      " A &  B &  C &  D &  F & set \\\\\n",
      "\\midrule\n",
      " 6 &  1 &  4 &  1 &  1 &   A \\\\\n",
      " 1 &  6 &  1 &  1 &  1 &   B \\\\\n",
      " 4 &  1 &  7 &  2 &  2 &   C \\\\\n",
      " 1 &  1 &  2 &  4 &  0 &   D \\\\\n",
      " 1 &  1 &  2 &  0 &  6 &   F \\\\\n",
      "\\bottomrule\n",
      "\\end{tabular}\n",
      "\n"
     ]
    }
   ],
   "source": [
    "print(df.to_latex(index=False))"
   ]
  },
  {
   "cell_type": "markdown",
   "metadata": {},
   "source": [
    "### Calculating intersections probabilities"
   ]
  },
  {
   "cell_type": "code",
   "execution_count": 16,
   "metadata": {
    "collapsed": true
   },
   "outputs": [],
   "source": [
    "results = {'set':set_names}\n",
    "for i in range(len(all_sets)):\n",
    "    results[set_names[i]] = [get_intersection_probability(all_sets[i],j) for j in all_sets]"
   ]
  },
  {
   "cell_type": "code",
   "execution_count": 17,
   "metadata": {},
   "outputs": [
    {
     "data": {
      "text/html": [
       "<div>\n",
       "<style scoped>\n",
       "    .dataframe tbody tr th:only-of-type {\n",
       "        vertical-align: middle;\n",
       "    }\n",
       "\n",
       "    .dataframe tbody tr th {\n",
       "        vertical-align: top;\n",
       "    }\n",
       "\n",
       "    .dataframe thead th {\n",
       "        text-align: right;\n",
       "    }\n",
       "</style>\n",
       "<table border=\"1\" class=\"dataframe\">\n",
       "  <thead>\n",
       "    <tr style=\"text-align: right;\">\n",
       "      <th></th>\n",
       "      <th>A</th>\n",
       "      <th>B</th>\n",
       "      <th>C</th>\n",
       "      <th>D</th>\n",
       "      <th>F</th>\n",
       "      <th>set</th>\n",
       "    </tr>\n",
       "  </thead>\n",
       "  <tbody>\n",
       "    <tr>\n",
       "      <th>0</th>\n",
       "      <td>0.167</td>\n",
       "      <td>0.028</td>\n",
       "      <td>0.111</td>\n",
       "      <td>0.028</td>\n",
       "      <td>0.028</td>\n",
       "      <td>A</td>\n",
       "    </tr>\n",
       "    <tr>\n",
       "      <th>1</th>\n",
       "      <td>0.028</td>\n",
       "      <td>0.167</td>\n",
       "      <td>0.028</td>\n",
       "      <td>0.028</td>\n",
       "      <td>0.028</td>\n",
       "      <td>B</td>\n",
       "    </tr>\n",
       "    <tr>\n",
       "      <th>2</th>\n",
       "      <td>0.111</td>\n",
       "      <td>0.028</td>\n",
       "      <td>0.194</td>\n",
       "      <td>0.056</td>\n",
       "      <td>0.056</td>\n",
       "      <td>C</td>\n",
       "    </tr>\n",
       "    <tr>\n",
       "      <th>3</th>\n",
       "      <td>0.028</td>\n",
       "      <td>0.028</td>\n",
       "      <td>0.056</td>\n",
       "      <td>0.111</td>\n",
       "      <td>0.000</td>\n",
       "      <td>D</td>\n",
       "    </tr>\n",
       "    <tr>\n",
       "      <th>4</th>\n",
       "      <td>0.028</td>\n",
       "      <td>0.028</td>\n",
       "      <td>0.056</td>\n",
       "      <td>0.000</td>\n",
       "      <td>0.167</td>\n",
       "      <td>F</td>\n",
       "    </tr>\n",
       "  </tbody>\n",
       "</table>\n",
       "</div>"
      ],
      "text/plain": [
       "       A      B      C      D      F set\n",
       "0  0.167  0.028  0.111  0.028  0.028   A\n",
       "1  0.028  0.167  0.028  0.028  0.028   B\n",
       "2  0.111  0.028  0.194  0.056  0.056   C\n",
       "3  0.028  0.028  0.056  0.111  0.000   D\n",
       "4  0.028  0.028  0.056  0.000  0.167   F"
      ]
     },
     "execution_count": 17,
     "metadata": {},
     "output_type": "execute_result"
    }
   ],
   "source": [
    "df = pd.DataFrame(results)\n",
    "df.round(3)"
   ]
  },
  {
   "cell_type": "markdown",
   "metadata": {},
   "source": [
    "Til Latex output:"
   ]
  },
  {
   "cell_type": "code",
   "execution_count": 18,
   "metadata": {},
   "outputs": [
    {
     "name": "stdout",
     "output_type": "stream",
     "text": [
      "\\begin{tabular}{rrrrrl}\n",
      "\\toprule\n",
      "     A &      B &      C &      D &      F & set \\\\\n",
      "\\midrule\n",
      " 0.167 &  0.028 &  0.111 &  0.028 &  0.028 &   A \\\\\n",
      " 0.028 &  0.167 &  0.028 &  0.028 &  0.028 &   B \\\\\n",
      " 0.111 &  0.028 &  0.194 &  0.056 &  0.056 &   C \\\\\n",
      " 0.028 &  0.028 &  0.056 &  0.111 &  0.000 &   D \\\\\n",
      " 0.028 &  0.028 &  0.056 &  0.000 &  0.167 &   F \\\\\n",
      "\\bottomrule\n",
      "\\end{tabular}\n",
      "\n"
     ]
    }
   ],
   "source": [
    "print(df.round(3).to_latex(index=False))"
   ]
  },
  {
   "cell_type": "markdown",
   "metadata": {},
   "source": [
    "### Calculating P(A)P(B)"
   ]
  },
  {
   "cell_type": "code",
   "execution_count": 19,
   "metadata": {
    "collapsed": true
   },
   "outputs": [],
   "source": [
    "results = {'set':set_names}\n",
    "for i in range(len(all_sets)):\n",
    "    results[set_names[i]] = [get_probability(all_sets[i],j) for j in all_sets]"
   ]
  },
  {
   "cell_type": "code",
   "execution_count": 20,
   "metadata": {},
   "outputs": [
    {
     "data": {
      "text/html": [
       "<div>\n",
       "<style scoped>\n",
       "    .dataframe tbody tr th:only-of-type {\n",
       "        vertical-align: middle;\n",
       "    }\n",
       "\n",
       "    .dataframe tbody tr th {\n",
       "        vertical-align: top;\n",
       "    }\n",
       "\n",
       "    .dataframe thead th {\n",
       "        text-align: right;\n",
       "    }\n",
       "</style>\n",
       "<table border=\"1\" class=\"dataframe\">\n",
       "  <thead>\n",
       "    <tr style=\"text-align: right;\">\n",
       "      <th></th>\n",
       "      <th>A</th>\n",
       "      <th>B</th>\n",
       "      <th>C</th>\n",
       "      <th>D</th>\n",
       "      <th>F</th>\n",
       "      <th>set</th>\n",
       "    </tr>\n",
       "  </thead>\n",
       "  <tbody>\n",
       "    <tr>\n",
       "      <th>0</th>\n",
       "      <td>0.028</td>\n",
       "      <td>0.028</td>\n",
       "      <td>0.032</td>\n",
       "      <td>0.019</td>\n",
       "      <td>0.028</td>\n",
       "      <td>A</td>\n",
       "    </tr>\n",
       "    <tr>\n",
       "      <th>1</th>\n",
       "      <td>0.028</td>\n",
       "      <td>0.028</td>\n",
       "      <td>0.032</td>\n",
       "      <td>0.019</td>\n",
       "      <td>0.028</td>\n",
       "      <td>B</td>\n",
       "    </tr>\n",
       "    <tr>\n",
       "      <th>2</th>\n",
       "      <td>0.032</td>\n",
       "      <td>0.032</td>\n",
       "      <td>0.038</td>\n",
       "      <td>0.022</td>\n",
       "      <td>0.032</td>\n",
       "      <td>C</td>\n",
       "    </tr>\n",
       "    <tr>\n",
       "      <th>3</th>\n",
       "      <td>0.019</td>\n",
       "      <td>0.019</td>\n",
       "      <td>0.022</td>\n",
       "      <td>0.012</td>\n",
       "      <td>0.019</td>\n",
       "      <td>D</td>\n",
       "    </tr>\n",
       "    <tr>\n",
       "      <th>4</th>\n",
       "      <td>0.028</td>\n",
       "      <td>0.028</td>\n",
       "      <td>0.032</td>\n",
       "      <td>0.019</td>\n",
       "      <td>0.028</td>\n",
       "      <td>F</td>\n",
       "    </tr>\n",
       "  </tbody>\n",
       "</table>\n",
       "</div>"
      ],
      "text/plain": [
       "       A      B      C      D      F set\n",
       "0  0.028  0.028  0.032  0.019  0.028   A\n",
       "1  0.028  0.028  0.032  0.019  0.028   B\n",
       "2  0.032  0.032  0.038  0.022  0.032   C\n",
       "3  0.019  0.019  0.022  0.012  0.019   D\n",
       "4  0.028  0.028  0.032  0.019  0.028   F"
      ]
     },
     "execution_count": 20,
     "metadata": {},
     "output_type": "execute_result"
    }
   ],
   "source": [
    "# puts everything to dataframe for printing\n",
    "df = pd.DataFrame(results)\n",
    "df.round(3)"
   ]
  },
  {
   "cell_type": "markdown",
   "metadata": {},
   "source": [
    "Til Latex output:"
   ]
  },
  {
   "cell_type": "code",
   "execution_count": 21,
   "metadata": {},
   "outputs": [
    {
     "name": "stdout",
     "output_type": "stream",
     "text": [
      "\\begin{tabular}{rrrrrl}\n",
      "\\toprule\n",
      "     A &      B &      C &      D &      F & set \\\\\n",
      "\\midrule\n",
      " 0.028 &  0.028 &  0.032 &  0.019 &  0.028 &   A \\\\\n",
      " 0.028 &  0.028 &  0.032 &  0.019 &  0.028 &   B \\\\\n",
      " 0.032 &  0.032 &  0.038 &  0.022 &  0.032 &   C \\\\\n",
      " 0.019 &  0.019 &  0.022 &  0.012 &  0.019 &   D \\\\\n",
      " 0.028 &  0.028 &  0.032 &  0.019 &  0.028 &   F \\\\\n",
      "\\bottomrule\n",
      "\\end{tabular}\n",
      "\n"
     ]
    }
   ],
   "source": [
    "print(df.round(3).to_latex(index=False))"
   ]
  },
  {
   "cell_type": "markdown",
   "metadata": {},
   "source": [
    "# Opgave 1.9"
   ]
  },
  {
   "cell_type": "code",
   "execution_count": 22,
   "metadata": {
    "collapsed": true
   },
   "outputs": [],
   "source": [
    "def prob_func(x):\n",
    "    \n",
    "    return (52-x-16)/(52-x)"
   ]
  },
  {
   "cell_type": "code",
   "execution_count": 23,
   "metadata": {},
   "outputs": [],
   "source": [
    "prob = 1\n",
    "for i in range(13):\n",
    "    #print(i, prob_func(i))\n",
    "    prob = prob * prob_func(i)"
   ]
  },
  {
   "cell_type": "code",
   "execution_count": 24,
   "metadata": {},
   "outputs": [
    {
     "data": {
      "text/plain": [
       "0.0036389610348723633"
      ]
     },
     "execution_count": 24,
     "metadata": {},
     "output_type": "execute_result"
    }
   ],
   "source": [
    "prob"
   ]
  },
  {
   "cell_type": "code",
   "execution_count": null,
   "metadata": {
    "collapsed": true
   },
   "outputs": [],
   "source": []
  }
 ],
 "metadata": {
  "kernelspec": {
   "display_name": "Python 3 (sm)",
   "language": "python",
   "name": "stat18"
  },
  "language_info": {
   "codemirror_mode": {
    "name": "ipython",
    "version": 3
   },
   "file_extension": ".py",
   "mimetype": "text/x-python",
   "name": "python",
   "nbconvert_exporter": "python",
   "pygments_lexer": "ipython3",
   "version": "3.5.5"
  }
 },
 "nbformat": 4,
 "nbformat_minor": 2
}
